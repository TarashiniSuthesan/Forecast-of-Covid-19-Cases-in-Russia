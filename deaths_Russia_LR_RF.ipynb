{
 "cells": [
  {
   "cell_type": "code",
   "execution_count": 1,
   "metadata": {},
   "outputs": [],
   "source": [
    "#Import the necessary Python libraries\n",
    "\n",
    "import pandas as pd\n",
    "import numpy as np\n",
    "import matplotlib.pyplot as plt\n",
    "import plotly.express as px"
   ]
  },
  {
   "cell_type": "code",
   "execution_count": 2,
   "metadata": {},
   "outputs": [],
   "source": [
    "from fbprophet import Prophet\n",
    "from sklearn.metrics import r2_score\n",
    "\n",
    "plt.style.use(\"ggplot\")"
   ]
  },
  {
   "cell_type": "code",
   "execution_count": 3,
   "metadata": {},
   "outputs": [],
   "source": [
    "#Import the dataset\n",
    "\n",
    "global_deaths = pd.read_csv(\"covid19-data-from-john-hopkins-university/CONVENIENT_global_deaths.csv\")\n",
    "#global_deaths"
   ]
  },
  {
   "cell_type": "code",
   "execution_count": 4,
   "metadata": {},
   "outputs": [],
   "source": [
    "global_deaths = global_deaths[1:]\n",
    "#global_deaths"
   ]
  },
  {
   "cell_type": "code",
   "execution_count": 5,
   "metadata": {},
   "outputs": [],
   "source": [
    "#Select Russia's deaths data only for prediction\n",
    "\n",
    "RUS_deaths = pd.DataFrame(global_deaths[[\"Country/Region\",\"Russia\"]])\n",
    "#RUS_deaths.head()"
   ]
  },
  {
   "cell_type": "code",
   "execution_count": 6,
   "metadata": {},
   "outputs": [
    {
     "data": {
      "text/html": [
       "<div>\n",
       "<style scoped>\n",
       "    .dataframe tbody tr th:only-of-type {\n",
       "        vertical-align: middle;\n",
       "    }\n",
       "\n",
       "    .dataframe tbody tr th {\n",
       "        vertical-align: top;\n",
       "    }\n",
       "\n",
       "    .dataframe thead th {\n",
       "        text-align: right;\n",
       "    }\n",
       "</style>\n",
       "<table border=\"1\" class=\"dataframe\">\n",
       "  <thead>\n",
       "    <tr style=\"text-align: right;\">\n",
       "      <th></th>\n",
       "      <th>Date</th>\n",
       "      <th>Deaths</th>\n",
       "    </tr>\n",
       "  </thead>\n",
       "  <tbody>\n",
       "    <tr>\n",
       "      <th>1</th>\n",
       "      <td>1/23/20</td>\n",
       "      <td>0.0</td>\n",
       "    </tr>\n",
       "    <tr>\n",
       "      <th>2</th>\n",
       "      <td>1/24/20</td>\n",
       "      <td>0.0</td>\n",
       "    </tr>\n",
       "    <tr>\n",
       "      <th>3</th>\n",
       "      <td>1/25/20</td>\n",
       "      <td>0.0</td>\n",
       "    </tr>\n",
       "    <tr>\n",
       "      <th>4</th>\n",
       "      <td>1/26/20</td>\n",
       "      <td>0.0</td>\n",
       "    </tr>\n",
       "    <tr>\n",
       "      <th>5</th>\n",
       "      <td>1/27/20</td>\n",
       "      <td>0.0</td>\n",
       "    </tr>\n",
       "    <tr>\n",
       "      <th>...</th>\n",
       "      <td>...</td>\n",
       "      <td>...</td>\n",
       "    </tr>\n",
       "    <tr>\n",
       "      <th>675</th>\n",
       "      <td>11/27/21</td>\n",
       "      <td>1203.0</td>\n",
       "    </tr>\n",
       "    <tr>\n",
       "      <th>676</th>\n",
       "      <td>11/28/21</td>\n",
       "      <td>1190.0</td>\n",
       "    </tr>\n",
       "    <tr>\n",
       "      <th>677</th>\n",
       "      <td>11/29/21</td>\n",
       "      <td>1178.0</td>\n",
       "    </tr>\n",
       "    <tr>\n",
       "      <th>678</th>\n",
       "      <td>11/30/21</td>\n",
       "      <td>1195.0</td>\n",
       "    </tr>\n",
       "    <tr>\n",
       "      <th>679</th>\n",
       "      <td>12/1/21</td>\n",
       "      <td>1191.0</td>\n",
       "    </tr>\n",
       "  </tbody>\n",
       "</table>\n",
       "<p>679 rows × 2 columns</p>\n",
       "</div>"
      ],
      "text/plain": [
       "         Date  Deaths\n",
       "1     1/23/20     0.0\n",
       "2     1/24/20     0.0\n",
       "3     1/25/20     0.0\n",
       "4     1/26/20     0.0\n",
       "5     1/27/20     0.0\n",
       "..        ...     ...\n",
       "675  11/27/21  1203.0\n",
       "676  11/28/21  1190.0\n",
       "677  11/29/21  1178.0\n",
       "678  11/30/21  1195.0\n",
       "679   12/1/21  1191.0\n",
       "\n",
       "[679 rows x 2 columns]"
      ]
     },
     "execution_count": 6,
     "metadata": {},
     "output_type": "execute_result"
    }
   ],
   "source": [
    "#Change the header of Russian deaths data\n",
    "\n",
    "RUS_deaths.columns = ['Date','Deaths']\n",
    "RUS_deaths"
   ]
  },
  {
   "cell_type": "code",
   "execution_count": 7,
   "metadata": {},
   "outputs": [
    {
     "data": {
      "text/plain": [
       "Date      0\n",
       "Deaths    0\n",
       "dtype: int64"
      ]
     },
     "execution_count": 7,
     "metadata": {},
     "output_type": "execute_result"
    }
   ],
   "source": [
    "#Check for missing value(s) in the Russian deaths data\n",
    "\n",
    "RUS_deaths.isnull().sum()"
   ]
  },
  {
   "cell_type": "code",
   "execution_count": 8,
   "metadata": {},
   "outputs": [
    {
     "name": "stdout",
     "output_type": "stream",
     "text": [
      "<class 'pandas.core.frame.DataFrame'>\n",
      "RangeIndex: 679 entries, 1 to 679\n",
      "Data columns (total 2 columns):\n",
      " #   Column  Non-Null Count  Dtype  \n",
      "---  ------  --------------  -----  \n",
      " 0   Date    679 non-null    object \n",
      " 1   Deaths  679 non-null    float64\n",
      "dtypes: float64(1), object(1)\n",
      "memory usage: 10.7+ KB\n"
     ]
    }
   ],
   "source": [
    "RUS_deaths.info()"
   ]
  },
  {
   "cell_type": "code",
   "execution_count": 9,
   "metadata": {},
   "outputs": [],
   "source": [
    "RUS_deaths['Date']= pd.to_datetime(RUS_deaths['Date'])"
   ]
  },
  {
   "cell_type": "code",
   "execution_count": 10,
   "metadata": {},
   "outputs": [],
   "source": [
    "RUS_deaths = RUS_deaths.set_index(['Date'])"
   ]
  },
  {
   "cell_type": "code",
   "execution_count": 11,
   "metadata": {},
   "outputs": [],
   "source": [
    "def create_time_features(RUS_deaths):\n",
    "    \"\"\"\n",
    "    Creates time series features from datetime index\n",
    "    \"\"\"\n",
    "    RUS_deaths['date'] = RUS_deaths.index\n",
    "    RUS_deaths['hour'] = RUS_deaths['date'].dt.hour\n",
    "    RUS_deaths['dayofweek'] = RUS_deaths['date'].dt.dayofweek\n",
    "    RUS_deaths['quarter'] = RUS_deaths['date'].dt.quarter\n",
    "    RUS_deaths['month'] = RUS_deaths['date'].dt.month\n",
    "    RUS_deaths['year'] = RUS_deaths['date'].dt.year\n",
    "    RUS_deaths['dayofyear'] = RUS_deaths['date'].dt.dayofyear\n",
    "    RUS_deaths['dayofmonth'] = RUS_deaths['date'].dt.day\n",
    "    RUS_deaths['weekofyear'] = RUS_deaths['date'].dt.weekofyear\n",
    "    \n",
    "    X = RUS_deaths[['hour','dayofweek','quarter','month','year',\n",
    "           'dayofyear','dayofmonth','weekofyear']]\n",
    "    return X"
   ]
  },
  {
   "cell_type": "code",
   "execution_count": 12,
   "metadata": {},
   "outputs": [
    {
     "data": {
      "text/html": [
       "<div>\n",
       "<style scoped>\n",
       "    .dataframe tbody tr th:only-of-type {\n",
       "        vertical-align: middle;\n",
       "    }\n",
       "\n",
       "    .dataframe tbody tr th {\n",
       "        vertical-align: top;\n",
       "    }\n",
       "\n",
       "    .dataframe thead th {\n",
       "        text-align: right;\n",
       "    }\n",
       "</style>\n",
       "<table border=\"1\" class=\"dataframe\">\n",
       "  <thead>\n",
       "    <tr style=\"text-align: right;\">\n",
       "      <th></th>\n",
       "      <th>hour</th>\n",
       "      <th>dayofweek</th>\n",
       "      <th>quarter</th>\n",
       "      <th>month</th>\n",
       "      <th>year</th>\n",
       "      <th>dayofyear</th>\n",
       "      <th>dayofmonth</th>\n",
       "      <th>weekofyear</th>\n",
       "    </tr>\n",
       "    <tr>\n",
       "      <th>Date</th>\n",
       "      <th></th>\n",
       "      <th></th>\n",
       "      <th></th>\n",
       "      <th></th>\n",
       "      <th></th>\n",
       "      <th></th>\n",
       "      <th></th>\n",
       "      <th></th>\n",
       "    </tr>\n",
       "  </thead>\n",
       "  <tbody>\n",
       "    <tr>\n",
       "      <th>2020-01-23</th>\n",
       "      <td>0</td>\n",
       "      <td>3</td>\n",
       "      <td>1</td>\n",
       "      <td>1</td>\n",
       "      <td>2020</td>\n",
       "      <td>23</td>\n",
       "      <td>23</td>\n",
       "      <td>4</td>\n",
       "    </tr>\n",
       "    <tr>\n",
       "      <th>2020-01-24</th>\n",
       "      <td>0</td>\n",
       "      <td>4</td>\n",
       "      <td>1</td>\n",
       "      <td>1</td>\n",
       "      <td>2020</td>\n",
       "      <td>24</td>\n",
       "      <td>24</td>\n",
       "      <td>4</td>\n",
       "    </tr>\n",
       "    <tr>\n",
       "      <th>2020-01-25</th>\n",
       "      <td>0</td>\n",
       "      <td>5</td>\n",
       "      <td>1</td>\n",
       "      <td>1</td>\n",
       "      <td>2020</td>\n",
       "      <td>25</td>\n",
       "      <td>25</td>\n",
       "      <td>4</td>\n",
       "    </tr>\n",
       "    <tr>\n",
       "      <th>2020-01-26</th>\n",
       "      <td>0</td>\n",
       "      <td>6</td>\n",
       "      <td>1</td>\n",
       "      <td>1</td>\n",
       "      <td>2020</td>\n",
       "      <td>26</td>\n",
       "      <td>26</td>\n",
       "      <td>4</td>\n",
       "    </tr>\n",
       "    <tr>\n",
       "      <th>2020-01-27</th>\n",
       "      <td>0</td>\n",
       "      <td>0</td>\n",
       "      <td>1</td>\n",
       "      <td>1</td>\n",
       "      <td>2020</td>\n",
       "      <td>27</td>\n",
       "      <td>27</td>\n",
       "      <td>5</td>\n",
       "    </tr>\n",
       "  </tbody>\n",
       "</table>\n",
       "</div>"
      ],
      "text/plain": [
       "            hour  dayofweek  quarter  month  year  dayofyear  dayofmonth  \\\n",
       "Date                                                                       \n",
       "2020-01-23     0          3        1      1  2020         23          23   \n",
       "2020-01-24     0          4        1      1  2020         24          24   \n",
       "2020-01-25     0          5        1      1  2020         25          25   \n",
       "2020-01-26     0          6        1      1  2020         26          26   \n",
       "2020-01-27     0          0        1      1  2020         27          27   \n",
       "\n",
       "            weekofyear  \n",
       "Date                    \n",
       "2020-01-23           4  \n",
       "2020-01-24           4  \n",
       "2020-01-25           4  \n",
       "2020-01-26           4  \n",
       "2020-01-27           5  "
      ]
     },
     "execution_count": 12,
     "metadata": {},
     "output_type": "execute_result"
    }
   ],
   "source": [
    "create_time_features(RUS_deaths).head()"
   ]
  },
  {
   "cell_type": "code",
   "execution_count": 13,
   "metadata": {},
   "outputs": [
    {
     "data": {
      "text/html": [
       "<div>\n",
       "<style scoped>\n",
       "    .dataframe tbody tr th:only-of-type {\n",
       "        vertical-align: middle;\n",
       "    }\n",
       "\n",
       "    .dataframe tbody tr th {\n",
       "        vertical-align: top;\n",
       "    }\n",
       "\n",
       "    .dataframe thead th {\n",
       "        text-align: right;\n",
       "    }\n",
       "</style>\n",
       "<table border=\"1\" class=\"dataframe\">\n",
       "  <thead>\n",
       "    <tr style=\"text-align: right;\">\n",
       "      <th></th>\n",
       "      <th>Deaths</th>\n",
       "      <th>date</th>\n",
       "      <th>hour</th>\n",
       "      <th>dayofweek</th>\n",
       "      <th>quarter</th>\n",
       "      <th>month</th>\n",
       "      <th>year</th>\n",
       "      <th>dayofyear</th>\n",
       "      <th>dayofmonth</th>\n",
       "      <th>weekofyear</th>\n",
       "    </tr>\n",
       "    <tr>\n",
       "      <th>Date</th>\n",
       "      <th></th>\n",
       "      <th></th>\n",
       "      <th></th>\n",
       "      <th></th>\n",
       "      <th></th>\n",
       "      <th></th>\n",
       "      <th></th>\n",
       "      <th></th>\n",
       "      <th></th>\n",
       "      <th></th>\n",
       "    </tr>\n",
       "  </thead>\n",
       "  <tbody>\n",
       "    <tr>\n",
       "      <th>2020-01-23</th>\n",
       "      <td>0.0</td>\n",
       "      <td>2020-01-23</td>\n",
       "      <td>0</td>\n",
       "      <td>3</td>\n",
       "      <td>1</td>\n",
       "      <td>1</td>\n",
       "      <td>2020</td>\n",
       "      <td>23</td>\n",
       "      <td>23</td>\n",
       "      <td>4</td>\n",
       "    </tr>\n",
       "    <tr>\n",
       "      <th>2020-01-24</th>\n",
       "      <td>0.0</td>\n",
       "      <td>2020-01-24</td>\n",
       "      <td>0</td>\n",
       "      <td>4</td>\n",
       "      <td>1</td>\n",
       "      <td>1</td>\n",
       "      <td>2020</td>\n",
       "      <td>24</td>\n",
       "      <td>24</td>\n",
       "      <td>4</td>\n",
       "    </tr>\n",
       "    <tr>\n",
       "      <th>2020-01-25</th>\n",
       "      <td>0.0</td>\n",
       "      <td>2020-01-25</td>\n",
       "      <td>0</td>\n",
       "      <td>5</td>\n",
       "      <td>1</td>\n",
       "      <td>1</td>\n",
       "      <td>2020</td>\n",
       "      <td>25</td>\n",
       "      <td>25</td>\n",
       "      <td>4</td>\n",
       "    </tr>\n",
       "    <tr>\n",
       "      <th>2020-01-26</th>\n",
       "      <td>0.0</td>\n",
       "      <td>2020-01-26</td>\n",
       "      <td>0</td>\n",
       "      <td>6</td>\n",
       "      <td>1</td>\n",
       "      <td>1</td>\n",
       "      <td>2020</td>\n",
       "      <td>26</td>\n",
       "      <td>26</td>\n",
       "      <td>4</td>\n",
       "    </tr>\n",
       "    <tr>\n",
       "      <th>2020-01-27</th>\n",
       "      <td>0.0</td>\n",
       "      <td>2020-01-27</td>\n",
       "      <td>0</td>\n",
       "      <td>0</td>\n",
       "      <td>1</td>\n",
       "      <td>1</td>\n",
       "      <td>2020</td>\n",
       "      <td>27</td>\n",
       "      <td>27</td>\n",
       "      <td>5</td>\n",
       "    </tr>\n",
       "  </tbody>\n",
       "</table>\n",
       "</div>"
      ],
      "text/plain": [
       "            Deaths       date  hour  dayofweek  quarter  month  year  \\\n",
       "Date                                                                   \n",
       "2020-01-23     0.0 2020-01-23     0          3        1      1  2020   \n",
       "2020-01-24     0.0 2020-01-24     0          4        1      1  2020   \n",
       "2020-01-25     0.0 2020-01-25     0          5        1      1  2020   \n",
       "2020-01-26     0.0 2020-01-26     0          6        1      1  2020   \n",
       "2020-01-27     0.0 2020-01-27     0          0        1      1  2020   \n",
       "\n",
       "            dayofyear  dayofmonth  weekofyear  \n",
       "Date                                           \n",
       "2020-01-23         23          23           4  \n",
       "2020-01-24         24          24           4  \n",
       "2020-01-25         25          25           4  \n",
       "2020-01-26         26          26           4  \n",
       "2020-01-27         27          27           5  "
      ]
     },
     "execution_count": 13,
     "metadata": {},
     "output_type": "execute_result"
    }
   ],
   "source": [
    "RUS_deaths.head()"
   ]
  },
  {
   "cell_type": "code",
   "execution_count": 14,
   "metadata": {},
   "outputs": [],
   "source": [
    "RUS_deaths.drop(\"date\", axis=1, inplace=True)\n",
    "RUS_deaths.drop(\"hour\", axis=1, inplace=True)\n",
    "RUS_deaths.drop(\"dayofweek\", axis=1, inplace=True)\n",
    "RUS_deaths.drop(\"quarter\", axis=1, inplace=True)\n",
    "RUS_deaths.drop(\"dayofyear\", axis=1, inplace=True)\n",
    "RUS_deaths.drop(\"weekofyear\", axis=1, inplace=True)"
   ]
  },
  {
   "cell_type": "code",
   "execution_count": 15,
   "metadata": {},
   "outputs": [],
   "source": [
    "from sklearn.preprocessing import LabelEncoder\n",
    "le = LabelEncoder()\n",
    "def FunLabelEncoder(df):\n",
    "    for c in df.columns:\n",
    "        if df.dtypes[c] == object:\n",
    "            le.fit(df[c].astype(str))\n",
    "            df[c] = le.transform(df[c].astype(str))\n",
    "    return df"
   ]
  },
  {
   "cell_type": "code",
   "execution_count": 16,
   "metadata": {},
   "outputs": [
    {
     "name": "stdout",
     "output_type": "stream",
     "text": [
      "<class 'pandas.core.frame.DataFrame'>\n",
      "DatetimeIndex: 679 entries, 2020-01-23 to 2021-12-01\n",
      "Data columns (total 4 columns):\n",
      " #   Column      Non-Null Count  Dtype  \n",
      "---  ------      --------------  -----  \n",
      " 0   Deaths      679 non-null    float64\n",
      " 1   month       679 non-null    int64  \n",
      " 2   year        679 non-null    int64  \n",
      " 3   dayofmonth  679 non-null    int64  \n",
      "dtypes: float64(1), int64(3)\n",
      "memory usage: 26.5 KB\n"
     ]
    }
   ],
   "source": [
    "RUS_deaths = FunLabelEncoder(RUS_deaths)\n",
    "RUS_deaths.info()"
   ]
  },
  {
   "cell_type": "code",
   "execution_count": 17,
   "metadata": {},
   "outputs": [
    {
     "data": {
      "text/html": [
       "<div>\n",
       "<style scoped>\n",
       "    .dataframe tbody tr th:only-of-type {\n",
       "        vertical-align: middle;\n",
       "    }\n",
       "\n",
       "    .dataframe tbody tr th {\n",
       "        vertical-align: top;\n",
       "    }\n",
       "\n",
       "    .dataframe thead th {\n",
       "        text-align: right;\n",
       "    }\n",
       "</style>\n",
       "<table border=\"1\" class=\"dataframe\">\n",
       "  <thead>\n",
       "    <tr style=\"text-align: right;\">\n",
       "      <th></th>\n",
       "      <th>Deaths</th>\n",
       "      <th>month</th>\n",
       "      <th>year</th>\n",
       "      <th>dayofmonth</th>\n",
       "    </tr>\n",
       "    <tr>\n",
       "      <th>Date</th>\n",
       "      <th></th>\n",
       "      <th></th>\n",
       "      <th></th>\n",
       "      <th></th>\n",
       "    </tr>\n",
       "  </thead>\n",
       "  <tbody>\n",
       "    <tr>\n",
       "      <th>2020-01-23</th>\n",
       "      <td>0.0</td>\n",
       "      <td>1</td>\n",
       "      <td>2020</td>\n",
       "      <td>23</td>\n",
       "    </tr>\n",
       "    <tr>\n",
       "      <th>2020-01-24</th>\n",
       "      <td>0.0</td>\n",
       "      <td>1</td>\n",
       "      <td>2020</td>\n",
       "      <td>24</td>\n",
       "    </tr>\n",
       "    <tr>\n",
       "      <th>2020-01-25</th>\n",
       "      <td>0.0</td>\n",
       "      <td>1</td>\n",
       "      <td>2020</td>\n",
       "      <td>25</td>\n",
       "    </tr>\n",
       "    <tr>\n",
       "      <th>2020-01-26</th>\n",
       "      <td>0.0</td>\n",
       "      <td>1</td>\n",
       "      <td>2020</td>\n",
       "      <td>26</td>\n",
       "    </tr>\n",
       "    <tr>\n",
       "      <th>2020-01-27</th>\n",
       "      <td>0.0</td>\n",
       "      <td>1</td>\n",
       "      <td>2020</td>\n",
       "      <td>27</td>\n",
       "    </tr>\n",
       "    <tr>\n",
       "      <th>...</th>\n",
       "      <td>...</td>\n",
       "      <td>...</td>\n",
       "      <td>...</td>\n",
       "      <td>...</td>\n",
       "    </tr>\n",
       "    <tr>\n",
       "      <th>2021-11-27</th>\n",
       "      <td>1203.0</td>\n",
       "      <td>11</td>\n",
       "      <td>2021</td>\n",
       "      <td>27</td>\n",
       "    </tr>\n",
       "    <tr>\n",
       "      <th>2021-11-28</th>\n",
       "      <td>1190.0</td>\n",
       "      <td>11</td>\n",
       "      <td>2021</td>\n",
       "      <td>28</td>\n",
       "    </tr>\n",
       "    <tr>\n",
       "      <th>2021-11-29</th>\n",
       "      <td>1178.0</td>\n",
       "      <td>11</td>\n",
       "      <td>2021</td>\n",
       "      <td>29</td>\n",
       "    </tr>\n",
       "    <tr>\n",
       "      <th>2021-11-30</th>\n",
       "      <td>1195.0</td>\n",
       "      <td>11</td>\n",
       "      <td>2021</td>\n",
       "      <td>30</td>\n",
       "    </tr>\n",
       "    <tr>\n",
       "      <th>2021-12-01</th>\n",
       "      <td>1191.0</td>\n",
       "      <td>12</td>\n",
       "      <td>2021</td>\n",
       "      <td>1</td>\n",
       "    </tr>\n",
       "  </tbody>\n",
       "</table>\n",
       "<p>679 rows × 4 columns</p>\n",
       "</div>"
      ],
      "text/plain": [
       "            Deaths  month  year  dayofmonth\n",
       "Date                                       \n",
       "2020-01-23     0.0      1  2020          23\n",
       "2020-01-24     0.0      1  2020          24\n",
       "2020-01-25     0.0      1  2020          25\n",
       "2020-01-26     0.0      1  2020          26\n",
       "2020-01-27     0.0      1  2020          27\n",
       "...            ...    ...   ...         ...\n",
       "2021-11-27  1203.0     11  2021          27\n",
       "2021-11-28  1190.0     11  2021          28\n",
       "2021-11-29  1178.0     11  2021          29\n",
       "2021-11-30  1195.0     11  2021          30\n",
       "2021-12-01  1191.0     12  2021           1\n",
       "\n",
       "[679 rows x 4 columns]"
      ]
     },
     "execution_count": 17,
     "metadata": {},
     "output_type": "execute_result"
    }
   ],
   "source": [
    "RUS_deaths"
   ]
  },
  {
   "cell_type": "code",
   "execution_count": 18,
   "metadata": {},
   "outputs": [],
   "source": [
    "X = RUS_deaths[['month', 'year','dayofmonth']]\n",
    "Y = RUS_deaths[['Deaths']]"
   ]
  },
  {
   "cell_type": "code",
   "execution_count": 19,
   "metadata": {},
   "outputs": [],
   "source": [
    "from sklearn.model_selection import train_test_split\n",
    "X_train,X_test,Y_train,Y_test=train_test_split(X,Y,test_size=0.3)"
   ]
  },
  {
   "cell_type": "code",
   "execution_count": 20,
   "metadata": {},
   "outputs": [
    {
     "data": {
      "text/plain": [
       "LinearRegression()"
      ]
     },
     "execution_count": 20,
     "metadata": {},
     "output_type": "execute_result"
    }
   ],
   "source": [
    "from sklearn.linear_model import LinearRegression\n",
    "LR=LinearRegression()\n",
    "LR.fit(X_train,Y_train)"
   ]
  },
  {
   "cell_type": "code",
   "execution_count": 21,
   "metadata": {},
   "outputs": [
    {
     "data": {
      "text/plain": [
       "0.8345933558413825"
      ]
     },
     "execution_count": 21,
     "metadata": {},
     "output_type": "execute_result"
    }
   ],
   "source": [
    "LR.score(X_test,Y_test)"
   ]
  },
  {
   "cell_type": "code",
   "execution_count": 22,
   "metadata": {},
   "outputs": [
    {
     "data": {
      "text/plain": [
       "(204, 3)"
      ]
     },
     "execution_count": 22,
     "metadata": {},
     "output_type": "execute_result"
    }
   ],
   "source": [
    "X_test.shape"
   ]
  },
  {
   "cell_type": "code",
   "execution_count": 23,
   "metadata": {},
   "outputs": [
    {
     "data": {
      "text/plain": [
       "array([[  82.5608885 ],\n",
       "       [ 272.67154097],\n",
       "       [ 639.86584097],\n",
       "       [ 751.57002512],\n",
       "       [ 398.69869091],\n",
       "       [  73.68149762],\n",
       "       [ 397.69481144],\n",
       "       [ 817.41143194],\n",
       "       [ -83.88546385],\n",
       "       [ 479.07515231],\n",
       "       [ 672.40953197],\n",
       "       [ -18.79808186],\n",
       "       [ -42.46238197],\n",
       "       [-132.72211373],\n",
       "       [ 465.75606598],\n",
       "       [ 606.56812515],\n",
       "       [ 368.37484764],\n",
       "       [ 386.59557283],\n",
       "       [ 714.58663868],\n",
       "       [ 710.14694324],\n",
       "       [ 585.12367276],\n",
       "       [ 462.32025001],\n",
       "       [  67.02195445],\n",
       "       [ 455.66070685],\n",
       "       [ 345.17249095],\n",
       "       [ 613.22766831],\n",
       "       [ 312.62879996],\n",
       "       [  14.49963396],\n",
       "       [ 784.86774094],\n",
       "       [ 696.82785691],\n",
       "       [ 317.0684954 ],\n",
       "       [ 810.75188877],\n",
       "       [ -24.7036002 ],\n",
       "       [ -66.88070691],\n",
       "       [ 644.30553642],\n",
       "       [ 508.18302734],\n",
       "       [ 198.70476809],\n",
       "       [ 222.3690682 ],\n",
       "       [ 348.39621814],\n",
       "       [ -35.80283881],\n",
       "       [ 872.15360015],\n",
       "       [ 494.86394101],\n",
       "       [ 485.73469548],\n",
       "       [ -89.07918413],\n",
       "       [  51.4830204 ],\n",
       "       [ 373.2764865 ],\n",
       "       [  86.24655912],\n",
       "       [ 379.93602967],\n",
       "       [ 439.11789332],\n",
       "       [ 382.15587739],\n",
       "       [ 904.69729114],\n",
       "       [ 378.72006142],\n",
       "       [ 795.21295472],\n",
       "       [ 574.02443416],\n",
       "       [ 292.65017046],\n",
       "       [ 863.27420926],\n",
       "       [  81.80686367],\n",
       "       [ 388.35347713],\n",
       "       [ 854.39481838],\n",
       "       [ 474.63545687],\n",
       "       [ 279.33108413],\n",
       "       [ 808.53204105],\n",
       "       [ 920.2362252 ],\n",
       "       [-139.38165689],\n",
       "       [ 400.91853863],\n",
       "       [ -27.67747275],\n",
       "       [ 461.31637054],\n",
       "       [ 532.60135227],\n",
       "       [ 337.29697954],\n",
       "       [ 381.69393397],\n",
       "       [  87.00058395],\n",
       "       [ 374.03051133],\n",
       "       [ 106.22518861],\n",
       "       [ -29.14329564],\n",
       "       [ 266.0119978 ],\n",
       "       [ 519.28226594],\n",
       "       [ 915.79652975],\n",
       "       [ 375.49633422],\n",
       "       [ 406.57420233],\n",
       "       [ 354.05188184],\n",
       "       [ 867.71390471],\n",
       "       [ -73.54025007],\n",
       "       [-138.62763206],\n",
       "       [  64.80210673],\n",
       "       [ 946.87439786],\n",
       "       [ 327.41370918],\n",
       "       [ 933.55531153],\n",
       "       [ 815.19158422],\n",
       "       [ 314.09462285],\n",
       "       [ 140.98872733],\n",
       "       [ 556.26565238],\n",
       "       [ 528.16165683],\n",
       "       [ 377.25423853],\n",
       "       [ 482.29887951],\n",
       "       [-140.84747979],\n",
       "       [ 183.16583404],\n",
       "       [ 388.81542055],\n",
       "       [ 376.25035905],\n",
       "       [ 454.65682737],\n",
       "       [ 646.52538414],\n",
       "       [ 788.55341156],\n",
       "       [ 558.4855001 ],\n",
       "       [ 467.9759137 ],\n",
       "       [ 436.43610218],\n",
       "       [ 784.11371611],\n",
       "       [ 416.45747269],\n",
       "       [  35.94408635],\n",
       "       [ -49.12192514],\n",
       "       [  27.81872029],\n",
       "       [ 549.60610922],\n",
       "       [ 442.34162052],\n",
       "       [ 438.6559499 ],\n",
       "       [ 891.37820482],\n",
       "       [ 543.70059088],\n",
       "       [ 422.11313638],\n",
       "       [-146.04120006],\n",
       "       [ 205.36431126],\n",
       "       [ 712.36679096],\n",
       "       [ 596.22291137],\n",
       "       [ 281.55093185],\n",
       "       [ 591.78321593],\n",
       "       [ 707.92709552],\n",
       "       [ 251.22708858],\n",
       "       [ 408.79405005],\n",
       "       [ 488.95842267],\n",
       "       [ 849.95512293],\n",
       "       [ 339.51682726],\n",
       "       [ 725.68587729],\n",
       "       [ 355.05576131],\n",
       "       [ 565.14504327],\n",
       "       [ 955.75378874],\n",
       "       [ 326.19774093],\n",
       "       [ -69.10055463],\n",
       "       [ 274.89138869],\n",
       "       [ 525.94180911],\n",
       "       [ -82.41964096],\n",
       "       [ -14.35838642],\n",
       "       [ 215.70952503],\n",
       "       [ 769.32880689],\n",
       "       [ 722.71200474],\n",
       "       [ 724.93185246],\n",
       "       [ 550.36013405],\n",
       "       [ 906.91713887],\n",
       "       [ 539.26089544],\n",
       "       [ 363.9351522 ],\n",
       "       [ 548.14028633],\n",
       "       [ 633.20629781],\n",
       "       [ -92.76485474],\n",
       "       [ 929.11561608],\n",
       "       [ 285.9906273 ],\n",
       "       [ 477.85918406],\n",
       "       [   5.62024307],\n",
       "       [ 580.68397732],\n",
       "       [ 838.85588433],\n",
       "       [-137.16180917],\n",
       "       [ 578.4641296 ],\n",
       "       [ 460.10040229],\n",
       "       [ 845.51542749],\n",
       "       [ 607.32214998],\n",
       "       [  16.71948168],\n",
       "       [ 608.78797287],\n",
       "       [ 169.84674771],\n",
       "       [ 149.86811821],\n",
       "       [ 349.61218639],\n",
       "       [ 835.17021371],\n",
       "       [-143.82135234],\n",
       "       [ 430.99252727],\n",
       "       [ 407.5780818 ],\n",
       "       [-108.30378879],\n",
       "       [  91.44027939],\n",
       "       [ 836.6360366 ],\n",
       "       [ 143.20857505],\n",
       "       [ 257.88663174],\n",
       "       [ 412.01777724],\n",
       "       [ 411.01389777],\n",
       "       [ 889.91238192],\n",
       "       [ 154.30781366],\n",
       "       [ 659.84447047],\n",
       "       [ 687.94846602],\n",
       "       [ 351.83203412],\n",
       "       [ 705.70724779],\n",
       "       [ -23.23777731],\n",
       "       [ 220.14922048],\n",
       "       [ 294.87001818],\n",
       "       [ -44.68222969],\n",
       "       [ 341.73667498],\n",
       "       [ 534.8212    ],\n",
       "       [ 160.96735682],\n",
       "       [ 892.13222964],\n",
       "       [ 308.18910451],\n",
       "       [  55.92271584],\n",
       "       [ 598.44275909],\n",
       "       [ 206.83013415],\n",
       "       [ 299.30971363],\n",
       "       [ 797.43280244],\n",
       "       [ 290.43032274],\n",
       "       [ -58.00131602],\n",
       "       [ 145.42842277],\n",
       "       [ 202.3904387 ],\n",
       "       [ 174.28644315],\n",
       "       [  47.04332496],\n",
       "       [ 953.53394102],\n",
       "       [ 898.03774798],\n",
       "       [ 260.10647947]])"
      ]
     },
     "execution_count": 23,
     "metadata": {},
     "output_type": "execute_result"
    }
   ],
   "source": [
    "LR.predict(X_test)"
   ]
  },
  {
   "cell_type": "code",
   "execution_count": 24,
   "metadata": {},
   "outputs": [
    {
     "data": {
      "text/plain": [
       "-5.886971464924854"
      ]
     },
     "execution_count": 24,
     "metadata": {},
     "output_type": "execute_result"
    }
   ],
   "source": [
    "import numpy as np\n",
    "from sklearn.model_selection import cross_val_score\n",
    "reg_cv=LinearRegression()\n",
    "cv_scores=cross_val_score(reg_cv,X,Y,cv=6)\n",
    "np.mean(cv_scores)"
   ]
  },
  {
   "cell_type": "code",
   "execution_count": 25,
   "metadata": {},
   "outputs": [
    {
     "name": "stdout",
     "output_type": "stream",
     "text": [
      "Coefficients: \n",
      " [[ 56.96201593 524.76126148   2.21984772]]\n",
      "Coefficient of determination: 0.83\n"
     ]
    }
   ],
   "source": [
    "Y_pred = LR.predict(X_test)\n",
    "print(\"Coefficients: \\n\", LR.coef_)\n",
    "# The coefficient of determination: 1 is perfect prediction\n",
    "print(\"Coefficient of determination: %.2f\" % r2_score(Y_test, Y_pred))"
   ]
  },
  {
   "cell_type": "code",
   "execution_count": 36,
   "metadata": {},
   "outputs": [
    {
     "data": {
      "text/html": [
       "<div>\n",
       "<style scoped>\n",
       "    .dataframe tbody tr th:only-of-type {\n",
       "        vertical-align: middle;\n",
       "    }\n",
       "\n",
       "    .dataframe tbody tr th {\n",
       "        vertical-align: top;\n",
       "    }\n",
       "\n",
       "    .dataframe thead th {\n",
       "        text-align: right;\n",
       "    }\n",
       "</style>\n",
       "<table border=\"1\" class=\"dataframe\">\n",
       "  <thead>\n",
       "    <tr style=\"text-align: right;\">\n",
       "      <th></th>\n",
       "      <th>Deaths_LR.prediction</th>\n",
       "    </tr>\n",
       "  </thead>\n",
       "  <tbody>\n",
       "    <tr>\n",
       "      <th>0</th>\n",
       "      <td>82.560889</td>\n",
       "    </tr>\n",
       "    <tr>\n",
       "      <th>1</th>\n",
       "      <td>272.671541</td>\n",
       "    </tr>\n",
       "    <tr>\n",
       "      <th>2</th>\n",
       "      <td>639.865841</td>\n",
       "    </tr>\n",
       "    <tr>\n",
       "      <th>3</th>\n",
       "      <td>751.570025</td>\n",
       "    </tr>\n",
       "    <tr>\n",
       "      <th>4</th>\n",
       "      <td>398.698691</td>\n",
       "    </tr>\n",
       "    <tr>\n",
       "      <th>...</th>\n",
       "      <td>...</td>\n",
       "    </tr>\n",
       "    <tr>\n",
       "      <th>199</th>\n",
       "      <td>174.286443</td>\n",
       "    </tr>\n",
       "    <tr>\n",
       "      <th>200</th>\n",
       "      <td>47.043325</td>\n",
       "    </tr>\n",
       "    <tr>\n",
       "      <th>201</th>\n",
       "      <td>953.533941</td>\n",
       "    </tr>\n",
       "    <tr>\n",
       "      <th>202</th>\n",
       "      <td>898.037748</td>\n",
       "    </tr>\n",
       "    <tr>\n",
       "      <th>203</th>\n",
       "      <td>260.106479</td>\n",
       "    </tr>\n",
       "  </tbody>\n",
       "</table>\n",
       "<p>204 rows × 1 columns</p>\n",
       "</div>"
      ],
      "text/plain": [
       "     Deaths_LR.prediction\n",
       "0               82.560889\n",
       "1              272.671541\n",
       "2              639.865841\n",
       "3              751.570025\n",
       "4              398.698691\n",
       "..                    ...\n",
       "199            174.286443\n",
       "200             47.043325\n",
       "201            953.533941\n",
       "202            898.037748\n",
       "203            260.106479\n",
       "\n",
       "[204 rows x 1 columns]"
      ]
     },
     "execution_count": 36,
     "metadata": {},
     "output_type": "execute_result"
    }
   ],
   "source": [
    "LR_prediction = LR.predict(X_test)\n",
    "LR_prediction = pd.DataFrame(LR_prediction)\n",
    "LR_prediction.columns = [\"Deaths_LR.prediction\"]\n",
    "LR_prediction"
   ]
  },
  {
   "cell_type": "code",
   "execution_count": 37,
   "metadata": {},
   "outputs": [
    {
     "data": {
      "image/png": "[encoded data removed]",
      "text/plain": [
       "<Figure size 432x288 with 1 Axes>"
      ]
     },
     "metadata": {},
     "output_type": "display_data"
    }
   ],
   "source": [
    "LR_prediction.plot()\n",
    "plt.show()"
   ]
  },
  {
   "cell_type": "code",
   "execution_count": 26,
   "metadata": {},
   "outputs": [],
   "source": [
    "from sklearn.ensemble import RandomForestClassifier\n",
    "\n",
    "# We define the model\n",
    "tree_model= RandomForestClassifier(n_estimators=100, max_depth=200,\n",
    "                        random_state=1)"
   ]
  },
  {
   "cell_type": "code",
   "execution_count": 38,
   "metadata": {},
   "outputs": [
    {
     "name": "stderr",
     "output_type": "stream",
     "text": [
      "<ipython-input-38-c4fb29c18264>:6: DataConversionWarning: A column-vector y was passed when a 1d array was expected. Please change the shape of y to (n_samples,), for example using ravel().\n",
      "  tree_model.fit(X_train,Y_train)\n"
     ]
    },
    {
     "name": "stdout",
     "output_type": "stream",
     "text": [
      "Coefficient of determination: 0.98\n"
     ]
    }
   ],
   "source": [
    "from sklearn.ensemble import RandomForestClassifier\n",
    "\n",
    "# We define the model\n",
    "tree_model= RandomForestClassifier(n_estimators=100, max_depth=200,\n",
    "                        random_state=1)\n",
    "tree_model.fit(X_train,Y_train)\n",
    "RF_prediction = tree_model.predict(X_test)\n",
    "print(\"Coefficient of determination: %.2f\" % r2_score(Y_test, RF_prediction))"
   ]
  },
  {
   "cell_type": "code",
   "execution_count": 40,
   "metadata": {},
   "outputs": [],
   "source": [
    "RF_prediction = pd.DataFrame(RF_prediction)\n",
    "RF_prediction.columns = [\"Deaths_RF_prediction\"]"
   ]
  },
  {
   "cell_type": "code",
   "execution_count": 41,
   "metadata": {},
   "outputs": [
    {
     "data": {
      "text/html": [
       "<div>\n",
       "<style scoped>\n",
       "    .dataframe tbody tr th:only-of-type {\n",
       "        vertical-align: middle;\n",
       "    }\n",
       "\n",
       "    .dataframe tbody tr th {\n",
       "        vertical-align: top;\n",
       "    }\n",
       "\n",
       "    .dataframe thead th {\n",
       "        text-align: right;\n",
       "    }\n",
       "</style>\n",
       "<table border=\"1\" class=\"dataframe\">\n",
       "  <thead>\n",
       "    <tr style=\"text-align: right;\">\n",
       "      <th></th>\n",
       "      <th>Deaths_RF_prediction</th>\n",
       "    </tr>\n",
       "  </thead>\n",
       "  <tbody>\n",
       "    <tr>\n",
       "      <th>0</th>\n",
       "      <td>174.0</td>\n",
       "    </tr>\n",
       "    <tr>\n",
       "      <th>1</th>\n",
       "      <td>141.0</td>\n",
       "    </tr>\n",
       "    <tr>\n",
       "      <th>2</th>\n",
       "      <td>374.0</td>\n",
       "    </tr>\n",
       "    <tr>\n",
       "      <th>3</th>\n",
       "      <td>799.0</td>\n",
       "    </tr>\n",
       "    <tr>\n",
       "      <th>4</th>\n",
       "      <td>519.0</td>\n",
       "    </tr>\n",
       "  </tbody>\n",
       "</table>\n",
       "</div>"
      ],
      "text/plain": [
       "   Deaths_RF_prediction\n",
       "0                 174.0\n",
       "1                 141.0\n",
       "2                 374.0\n",
       "3                 799.0\n",
       "4                 519.0"
      ]
     },
     "execution_count": 41,
     "metadata": {},
     "output_type": "execute_result"
    }
   ],
   "source": [
    "RF_prediction.head()"
   ]
  },
  {
   "cell_type": "code",
   "execution_count": 42,
   "metadata": {},
   "outputs": [
    {
     "name": "stdout",
     "output_type": "stream",
     "text": [
      "<class 'pandas.core.frame.DataFrame'>\n",
      "RangeIndex: 204 entries, 0 to 203\n",
      "Data columns (total 1 columns):\n",
      " #   Column                Non-Null Count  Dtype  \n",
      "---  ------                --------------  -----  \n",
      " 0   Deaths_RF_prediction  204 non-null    float64\n",
      "dtypes: float64(1)\n",
      "memory usage: 1.7 KB\n"
     ]
    }
   ],
   "source": [
    "RF_prediction.info()"
   ]
  },
  {
   "cell_type": "code",
   "execution_count": 43,
   "metadata": {},
   "outputs": [
    {
     "data": {
      "image/png": "[encoded data removed]",
      "text/plain": [
       "<Figure size 432x288 with 1 Axes>"
      ]
     },
     "metadata": {},
     "output_type": "display_data"
    }
   ],
   "source": [
    "RF_prediction.plot()\n",
    "plt.show()"
   ]
  }
 ],
 "metadata": {
  "kernelspec": {
   "display_name": "Python 3",
   "language": "python",
   "name": "python3"
  },
  "language_info": {
   "codemirror_mode": {
    "name": "ipython",
    "version": 3
   },
   "file_extension": ".py",
   "mimetype": "text/x-python",
   "name": "python",
   "nbconvert_exporter": "python",
   "pygments_lexer": "ipython3",
   "version": "3.8.3"
  }
 },
 "nbformat": 4,
 "nbformat_minor": 4
}
