{
 "cells": [
  {
   "cell_type": "code",
   "execution_count": 1,
   "metadata": {},
   "outputs": [],
   "source": [
    "#Import the necessary Python libraries\n",
    "\n",
    "import pandas as pd\n",
    "import numpy as np\n",
    "import matplotlib.pyplot as plt\n",
    "import plotly.express as px"
   ]
  },
  {
   "cell_type": "code",
   "execution_count": 2,
   "metadata": {},
   "outputs": [],
   "source": [
    "from fbprophet import Prophet\n",
    "from sklearn.metrics import r2_score\n",
    "\n",
    "plt.style.use(\"ggplot\")"
   ]
  },
  {
   "cell_type": "code",
   "execution_count": 3,
   "metadata": {},
   "outputs": [],
   "source": [
    "#Import the dataset\n",
    "\n",
    "global_confirmed_cases = pd.read_csv(\"covid19-data-from-john-hopkins-university/CONVENIENT_global_confirmed_cases.csv\")\n",
    "#global_confirmed_cases"
   ]
  },
  {
   "cell_type": "code",
   "execution_count": 4,
   "metadata": {},
   "outputs": [],
   "source": [
    "global_confirmed_cases = global_confirmed_cases[1:]\n",
    "#global_confirmed_cases"
   ]
  },
  {
   "cell_type": "code",
   "execution_count": 5,
   "metadata": {},
   "outputs": [],
   "source": [
    "#Select Russia's confirmed cases data only for prediction\n",
    "\n",
    "RUS_confirmed_cases = pd.DataFrame(global_confirmed_cases[[\"Country/Region\",\"Russia\"]])\n",
    "#RUS_confirmed_cases.head()"
   ]
  },
  {
   "cell_type": "code",
   "execution_count": 6,
   "metadata": {},
   "outputs": [],
   "source": [
    "#Change the header of Russian confirmed cases data\n",
    "\n",
    "RUS_confirmed_cases.columns = ['Date','Confirmed cases']\n",
    "#RUS_confirmed_cases"
   ]
  },
  {
   "cell_type": "code",
   "execution_count": 7,
   "metadata": {},
   "outputs": [
    {
     "data": {
      "text/plain": [
       "Date               0\n",
       "Confirmed cases    0\n",
       "dtype: int64"
      ]
     },
     "execution_count": 7,
     "metadata": {},
     "output_type": "execute_result"
    }
   ],
   "source": [
    "#Check for missing value(s) in the Russian confirmed cases data\n",
    "\n",
    "RUS_confirmed_cases.isnull().sum()"
   ]
  },
  {
   "cell_type": "code",
   "execution_count": 8,
   "metadata": {},
   "outputs": [
    {
     "name": "stdout",
     "output_type": "stream",
     "text": [
      "<class 'pandas.core.frame.DataFrame'>\n",
      "RangeIndex: 679 entries, 1 to 679\n",
      "Data columns (total 2 columns):\n",
      " #   Column           Non-Null Count  Dtype  \n",
      "---  ------           --------------  -----  \n",
      " 0   Date             679 non-null    object \n",
      " 1   Confirmed cases  679 non-null    float64\n",
      "dtypes: float64(1), object(1)\n",
      "memory usage: 10.7+ KB\n"
     ]
    }
   ],
   "source": [
    "RUS_confirmed_cases.info()"
   ]
  },
  {
   "cell_type": "code",
   "execution_count": 9,
   "metadata": {},
   "outputs": [],
   "source": [
    "RUS_confirmed_cases['Date']= pd.to_datetime(RUS_confirmed_cases['Date']) "
   ]
  },
  {
   "cell_type": "code",
   "execution_count": 10,
   "metadata": {},
   "outputs": [],
   "source": [
    "RUS_confirmed_cases = RUS_confirmed_cases.set_index(['Date'])"
   ]
  },
  {
   "cell_type": "code",
   "execution_count": 11,
   "metadata": {},
   "outputs": [],
   "source": [
    "def create_time_features(RUS_confirmed_cases):\n",
    "    \"\"\"\n",
    "    Creates time series features from datetime index\n",
    "    \"\"\"\n",
    "    RUS_confirmed_cases['date'] = RUS_confirmed_cases.index\n",
    "    RUS_confirmed_cases['hour'] = RUS_confirmed_cases['date'].dt.hour\n",
    "    RUS_confirmed_cases['dayofweek'] = RUS_confirmed_cases['date'].dt.dayofweek\n",
    "    RUS_confirmed_cases['quarter'] = RUS_confirmed_cases['date'].dt.quarter\n",
    "    RUS_confirmed_cases['month'] = RUS_confirmed_cases['date'].dt.month\n",
    "    RUS_confirmed_cases['year'] = RUS_confirmed_cases['date'].dt.year\n",
    "    RUS_confirmed_cases['dayofyear'] = RUS_confirmed_cases['date'].dt.dayofyear\n",
    "    RUS_confirmed_cases['dayofmonth'] = RUS_confirmed_cases['date'].dt.day\n",
    "    RUS_confirmed_cases['weekofyear'] = RUS_confirmed_cases['date'].dt.weekofyear\n",
    "    \n",
    "    X = RUS_confirmed_cases[['hour','dayofweek','quarter','month','year',\n",
    "           'dayofyear','dayofmonth','weekofyear']]\n",
    "    return X"
   ]
  },
  {
   "cell_type": "code",
   "execution_count": 12,
   "metadata": {},
   "outputs": [
    {
     "data": {
      "text/html": [
       "<div>\n",
       "<style scoped>\n",
       "    .dataframe tbody tr th:only-of-type {\n",
       "        vertical-align: middle;\n",
       "    }\n",
       "\n",
       "    .dataframe tbody tr th {\n",
       "        vertical-align: top;\n",
       "    }\n",
       "\n",
       "    .dataframe thead th {\n",
       "        text-align: right;\n",
       "    }\n",
       "</style>\n",
       "<table border=\"1\" class=\"dataframe\">\n",
       "  <thead>\n",
       "    <tr style=\"text-align: right;\">\n",
       "      <th></th>\n",
       "      <th>hour</th>\n",
       "      <th>dayofweek</th>\n",
       "      <th>quarter</th>\n",
       "      <th>month</th>\n",
       "      <th>year</th>\n",
       "      <th>dayofyear</th>\n",
       "      <th>dayofmonth</th>\n",
       "      <th>weekofyear</th>\n",
       "    </tr>\n",
       "    <tr>\n",
       "      <th>Date</th>\n",
       "      <th></th>\n",
       "      <th></th>\n",
       "      <th></th>\n",
       "      <th></th>\n",
       "      <th></th>\n",
       "      <th></th>\n",
       "      <th></th>\n",
       "      <th></th>\n",
       "    </tr>\n",
       "  </thead>\n",
       "  <tbody>\n",
       "    <tr>\n",
       "      <th>2020-01-23</th>\n",
       "      <td>0</td>\n",
       "      <td>3</td>\n",
       "      <td>1</td>\n",
       "      <td>1</td>\n",
       "      <td>2020</td>\n",
       "      <td>23</td>\n",
       "      <td>23</td>\n",
       "      <td>4</td>\n",
       "    </tr>\n",
       "    <tr>\n",
       "      <th>2020-01-24</th>\n",
       "      <td>0</td>\n",
       "      <td>4</td>\n",
       "      <td>1</td>\n",
       "      <td>1</td>\n",
       "      <td>2020</td>\n",
       "      <td>24</td>\n",
       "      <td>24</td>\n",
       "      <td>4</td>\n",
       "    </tr>\n",
       "    <tr>\n",
       "      <th>2020-01-25</th>\n",
       "      <td>0</td>\n",
       "      <td>5</td>\n",
       "      <td>1</td>\n",
       "      <td>1</td>\n",
       "      <td>2020</td>\n",
       "      <td>25</td>\n",
       "      <td>25</td>\n",
       "      <td>4</td>\n",
       "    </tr>\n",
       "    <tr>\n",
       "      <th>2020-01-26</th>\n",
       "      <td>0</td>\n",
       "      <td>6</td>\n",
       "      <td>1</td>\n",
       "      <td>1</td>\n",
       "      <td>2020</td>\n",
       "      <td>26</td>\n",
       "      <td>26</td>\n",
       "      <td>4</td>\n",
       "    </tr>\n",
       "    <tr>\n",
       "      <th>2020-01-27</th>\n",
       "      <td>0</td>\n",
       "      <td>0</td>\n",
       "      <td>1</td>\n",
       "      <td>1</td>\n",
       "      <td>2020</td>\n",
       "      <td>27</td>\n",
       "      <td>27</td>\n",
       "      <td>5</td>\n",
       "    </tr>\n",
       "  </tbody>\n",
       "</table>\n",
       "</div>"
      ],
      "text/plain": [
       "            hour  dayofweek  quarter  month  year  dayofyear  dayofmonth  \\\n",
       "Date                                                                       \n",
       "2020-01-23     0          3        1      1  2020         23          23   \n",
       "2020-01-24     0          4        1      1  2020         24          24   \n",
       "2020-01-25     0          5        1      1  2020         25          25   \n",
       "2020-01-26     0          6        1      1  2020         26          26   \n",
       "2020-01-27     0          0        1      1  2020         27          27   \n",
       "\n",
       "            weekofyear  \n",
       "Date                    \n",
       "2020-01-23           4  \n",
       "2020-01-24           4  \n",
       "2020-01-25           4  \n",
       "2020-01-26           4  \n",
       "2020-01-27           5  "
      ]
     },
     "execution_count": 12,
     "metadata": {},
     "output_type": "execute_result"
    }
   ],
   "source": [
    "create_time_features(RUS_confirmed_cases).head()"
   ]
  },
  {
   "cell_type": "code",
   "execution_count": 13,
   "metadata": {},
   "outputs": [
    {
     "data": {
      "text/html": [
       "<div>\n",
       "<style scoped>\n",
       "    .dataframe tbody tr th:only-of-type {\n",
       "        vertical-align: middle;\n",
       "    }\n",
       "\n",
       "    .dataframe tbody tr th {\n",
       "        vertical-align: top;\n",
       "    }\n",
       "\n",
       "    .dataframe thead th {\n",
       "        text-align: right;\n",
       "    }\n",
       "</style>\n",
       "<table border=\"1\" class=\"dataframe\">\n",
       "  <thead>\n",
       "    <tr style=\"text-align: right;\">\n",
       "      <th></th>\n",
       "      <th>Confirmed cases</th>\n",
       "      <th>date</th>\n",
       "      <th>hour</th>\n",
       "      <th>dayofweek</th>\n",
       "      <th>quarter</th>\n",
       "      <th>month</th>\n",
       "      <th>year</th>\n",
       "      <th>dayofyear</th>\n",
       "      <th>dayofmonth</th>\n",
       "      <th>weekofyear</th>\n",
       "    </tr>\n",
       "    <tr>\n",
       "      <th>Date</th>\n",
       "      <th></th>\n",
       "      <th></th>\n",
       "      <th></th>\n",
       "      <th></th>\n",
       "      <th></th>\n",
       "      <th></th>\n",
       "      <th></th>\n",
       "      <th></th>\n",
       "      <th></th>\n",
       "      <th></th>\n",
       "    </tr>\n",
       "  </thead>\n",
       "  <tbody>\n",
       "    <tr>\n",
       "      <th>2020-01-23</th>\n",
       "      <td>0.0</td>\n",
       "      <td>2020-01-23</td>\n",
       "      <td>0</td>\n",
       "      <td>3</td>\n",
       "      <td>1</td>\n",
       "      <td>1</td>\n",
       "      <td>2020</td>\n",
       "      <td>23</td>\n",
       "      <td>23</td>\n",
       "      <td>4</td>\n",
       "    </tr>\n",
       "    <tr>\n",
       "      <th>2020-01-24</th>\n",
       "      <td>0.0</td>\n",
       "      <td>2020-01-24</td>\n",
       "      <td>0</td>\n",
       "      <td>4</td>\n",
       "      <td>1</td>\n",
       "      <td>1</td>\n",
       "      <td>2020</td>\n",
       "      <td>24</td>\n",
       "      <td>24</td>\n",
       "      <td>4</td>\n",
       "    </tr>\n",
       "    <tr>\n",
       "      <th>2020-01-25</th>\n",
       "      <td>0.0</td>\n",
       "      <td>2020-01-25</td>\n",
       "      <td>0</td>\n",
       "      <td>5</td>\n",
       "      <td>1</td>\n",
       "      <td>1</td>\n",
       "      <td>2020</td>\n",
       "      <td>25</td>\n",
       "      <td>25</td>\n",
       "      <td>4</td>\n",
       "    </tr>\n",
       "    <tr>\n",
       "      <th>2020-01-26</th>\n",
       "      <td>0.0</td>\n",
       "      <td>2020-01-26</td>\n",
       "      <td>0</td>\n",
       "      <td>6</td>\n",
       "      <td>1</td>\n",
       "      <td>1</td>\n",
       "      <td>2020</td>\n",
       "      <td>26</td>\n",
       "      <td>26</td>\n",
       "      <td>4</td>\n",
       "    </tr>\n",
       "    <tr>\n",
       "      <th>2020-01-27</th>\n",
       "      <td>0.0</td>\n",
       "      <td>2020-01-27</td>\n",
       "      <td>0</td>\n",
       "      <td>0</td>\n",
       "      <td>1</td>\n",
       "      <td>1</td>\n",
       "      <td>2020</td>\n",
       "      <td>27</td>\n",
       "      <td>27</td>\n",
       "      <td>5</td>\n",
       "    </tr>\n",
       "  </tbody>\n",
       "</table>\n",
       "</div>"
      ],
      "text/plain": [
       "            Confirmed cases       date  hour  dayofweek  quarter  month  year  \\\n",
       "Date                                                                            \n",
       "2020-01-23              0.0 2020-01-23     0          3        1      1  2020   \n",
       "2020-01-24              0.0 2020-01-24     0          4        1      1  2020   \n",
       "2020-01-25              0.0 2020-01-25     0          5        1      1  2020   \n",
       "2020-01-26              0.0 2020-01-26     0          6        1      1  2020   \n",
       "2020-01-27              0.0 2020-01-27     0          0        1      1  2020   \n",
       "\n",
       "            dayofyear  dayofmonth  weekofyear  \n",
       "Date                                           \n",
       "2020-01-23         23          23           4  \n",
       "2020-01-24         24          24           4  \n",
       "2020-01-25         25          25           4  \n",
       "2020-01-26         26          26           4  \n",
       "2020-01-27         27          27           5  "
      ]
     },
     "execution_count": 13,
     "metadata": {},
     "output_type": "execute_result"
    }
   ],
   "source": [
    "RUS_confirmed_cases.head()"
   ]
  },
  {
   "cell_type": "code",
   "execution_count": 14,
   "metadata": {},
   "outputs": [],
   "source": [
    "RUS_confirmed_cases.drop(\"date\", axis=1, inplace=True)\n",
    "RUS_confirmed_cases.drop(\"hour\", axis=1, inplace=True)\n",
    "RUS_confirmed_cases.drop(\"dayofweek\", axis=1, inplace=True)\n",
    "RUS_confirmed_cases.drop(\"quarter\", axis=1, inplace=True)\n",
    "RUS_confirmed_cases.drop(\"dayofyear\", axis=1, inplace=True)\n",
    "RUS_confirmed_cases.drop(\"weekofyear\", axis=1, inplace=True)"
   ]
  },
  {
   "cell_type": "code",
   "execution_count": 15,
   "metadata": {},
   "outputs": [],
   "source": [
    "from sklearn.preprocessing import LabelEncoder\n",
    "le = LabelEncoder()\n",
    "def FunLabelEncoder(df):\n",
    "    for c in df.columns:\n",
    "        if df.dtypes[c] == object:\n",
    "            le.fit(df[c].astype(str))\n",
    "            df[c] = le.transform(df[c].astype(str))\n",
    "    return df"
   ]
  },
  {
   "cell_type": "code",
   "execution_count": 16,
   "metadata": {},
   "outputs": [
    {
     "name": "stdout",
     "output_type": "stream",
     "text": [
      "<class 'pandas.core.frame.DataFrame'>\n",
      "DatetimeIndex: 679 entries, 2020-01-23 to 2021-12-01\n",
      "Data columns (total 4 columns):\n",
      " #   Column           Non-Null Count  Dtype  \n",
      "---  ------           --------------  -----  \n",
      " 0   Confirmed cases  679 non-null    float64\n",
      " 1   month            679 non-null    int64  \n",
      " 2   year             679 non-null    int64  \n",
      " 3   dayofmonth       679 non-null    int64  \n",
      "dtypes: float64(1), int64(3)\n",
      "memory usage: 26.5 KB\n"
     ]
    }
   ],
   "source": [
    "RUS_confirmed_cases = FunLabelEncoder(RUS_confirmed_cases)\n",
    "RUS_confirmed_cases.info()"
   ]
  },
  {
   "cell_type": "code",
   "execution_count": 17,
   "metadata": {},
   "outputs": [
    {
     "data": {
      "text/html": [
       "<div>\n",
       "<style scoped>\n",
       "    .dataframe tbody tr th:only-of-type {\n",
       "        vertical-align: middle;\n",
       "    }\n",
       "\n",
       "    .dataframe tbody tr th {\n",
       "        vertical-align: top;\n",
       "    }\n",
       "\n",
       "    .dataframe thead th {\n",
       "        text-align: right;\n",
       "    }\n",
       "</style>\n",
       "<table border=\"1\" class=\"dataframe\">\n",
       "  <thead>\n",
       "    <tr style=\"text-align: right;\">\n",
       "      <th></th>\n",
       "      <th>Confirmed cases</th>\n",
       "      <th>month</th>\n",
       "      <th>year</th>\n",
       "      <th>dayofmonth</th>\n",
       "    </tr>\n",
       "    <tr>\n",
       "      <th>Date</th>\n",
       "      <th></th>\n",
       "      <th></th>\n",
       "      <th></th>\n",
       "      <th></th>\n",
       "    </tr>\n",
       "  </thead>\n",
       "  <tbody>\n",
       "    <tr>\n",
       "      <th>2020-01-23</th>\n",
       "      <td>0.0</td>\n",
       "      <td>1</td>\n",
       "      <td>2020</td>\n",
       "      <td>23</td>\n",
       "    </tr>\n",
       "    <tr>\n",
       "      <th>2020-01-24</th>\n",
       "      <td>0.0</td>\n",
       "      <td>1</td>\n",
       "      <td>2020</td>\n",
       "      <td>24</td>\n",
       "    </tr>\n",
       "    <tr>\n",
       "      <th>2020-01-25</th>\n",
       "      <td>0.0</td>\n",
       "      <td>1</td>\n",
       "      <td>2020</td>\n",
       "      <td>25</td>\n",
       "    </tr>\n",
       "    <tr>\n",
       "      <th>2020-01-26</th>\n",
       "      <td>0.0</td>\n",
       "      <td>1</td>\n",
       "      <td>2020</td>\n",
       "      <td>26</td>\n",
       "    </tr>\n",
       "    <tr>\n",
       "      <th>2020-01-27</th>\n",
       "      <td>0.0</td>\n",
       "      <td>1</td>\n",
       "      <td>2020</td>\n",
       "      <td>27</td>\n",
       "    </tr>\n",
       "    <tr>\n",
       "      <th>...</th>\n",
       "      <td>...</td>\n",
       "      <td>...</td>\n",
       "      <td>...</td>\n",
       "      <td>...</td>\n",
       "    </tr>\n",
       "    <tr>\n",
       "      <th>2021-11-27</th>\n",
       "      <td>33119.0</td>\n",
       "      <td>11</td>\n",
       "      <td>2021</td>\n",
       "      <td>27</td>\n",
       "    </tr>\n",
       "    <tr>\n",
       "      <th>2021-11-28</th>\n",
       "      <td>32786.0</td>\n",
       "      <td>11</td>\n",
       "      <td>2021</td>\n",
       "      <td>28</td>\n",
       "    </tr>\n",
       "    <tr>\n",
       "      <th>2021-11-29</th>\n",
       "      <td>33170.0</td>\n",
       "      <td>11</td>\n",
       "      <td>2021</td>\n",
       "      <td>29</td>\n",
       "    </tr>\n",
       "    <tr>\n",
       "      <th>2021-11-30</th>\n",
       "      <td>31990.0</td>\n",
       "      <td>11</td>\n",
       "      <td>2021</td>\n",
       "      <td>30</td>\n",
       "    </tr>\n",
       "    <tr>\n",
       "      <th>2021-12-01</th>\n",
       "      <td>32196.0</td>\n",
       "      <td>12</td>\n",
       "      <td>2021</td>\n",
       "      <td>1</td>\n",
       "    </tr>\n",
       "  </tbody>\n",
       "</table>\n",
       "<p>679 rows × 4 columns</p>\n",
       "</div>"
      ],
      "text/plain": [
       "            Confirmed cases  month  year  dayofmonth\n",
       "Date                                                \n",
       "2020-01-23              0.0      1  2020          23\n",
       "2020-01-24              0.0      1  2020          24\n",
       "2020-01-25              0.0      1  2020          25\n",
       "2020-01-26              0.0      1  2020          26\n",
       "2020-01-27              0.0      1  2020          27\n",
       "...                     ...    ...   ...         ...\n",
       "2021-11-27          33119.0     11  2021          27\n",
       "2021-11-28          32786.0     11  2021          28\n",
       "2021-11-29          33170.0     11  2021          29\n",
       "2021-11-30          31990.0     11  2021          30\n",
       "2021-12-01          32196.0     12  2021           1\n",
       "\n",
       "[679 rows x 4 columns]"
      ]
     },
     "execution_count": 17,
     "metadata": {},
     "output_type": "execute_result"
    }
   ],
   "source": [
    "RUS_confirmed_cases"
   ]
  },
  {
   "cell_type": "code",
   "execution_count": 18,
   "metadata": {},
   "outputs": [],
   "source": [
    "X = RUS_confirmed_cases[['month', 'year','dayofmonth']]\n",
    "Y = RUS_confirmed_cases[['Confirmed cases']]"
   ]
  },
  {
   "cell_type": "code",
   "execution_count": 19,
   "metadata": {},
   "outputs": [],
   "source": [
    "from sklearn.model_selection import train_test_split\n",
    "X_train,X_test,Y_train,Y_test=train_test_split(X,Y,test_size=0.3)"
   ]
  },
  {
   "cell_type": "code",
   "execution_count": 20,
   "metadata": {},
   "outputs": [
    {
     "data": {
      "text/plain": [
       "LinearRegression()"
      ]
     },
     "execution_count": 20,
     "metadata": {},
     "output_type": "execute_result"
    }
   ],
   "source": [
    "from sklearn.linear_model import LinearRegression\n",
    "LR=LinearRegression()\n",
    "LR.fit(X_train,Y_train)"
   ]
  },
  {
   "cell_type": "code",
   "execution_count": 21,
   "metadata": {},
   "outputs": [
    {
     "data": {
      "text/plain": [
       "0.6554306021751815"
      ]
     },
     "execution_count": 21,
     "metadata": {},
     "output_type": "execute_result"
    }
   ],
   "source": [
    "LR.score(X_test,Y_test)"
   ]
  },
  {
   "cell_type": "code",
   "execution_count": 22,
   "metadata": {},
   "outputs": [
    {
     "data": {
      "text/plain": [
       "(204, 3)"
      ]
     },
     "execution_count": 22,
     "metadata": {},
     "output_type": "execute_result"
    }
   ],
   "source": [
    "X_test.shape"
   ]
  },
  {
   "cell_type": "code",
   "execution_count": 23,
   "metadata": {},
   "outputs": [
    {
     "data": {
      "text/html": [
       "<div>\n",
       "<style scoped>\n",
       "    .dataframe tbody tr th:only-of-type {\n",
       "        vertical-align: middle;\n",
       "    }\n",
       "\n",
       "    .dataframe tbody tr th {\n",
       "        vertical-align: top;\n",
       "    }\n",
       "\n",
       "    .dataframe thead th {\n",
       "        text-align: right;\n",
       "    }\n",
       "</style>\n",
       "<table border=\"1\" class=\"dataframe\">\n",
       "  <thead>\n",
       "    <tr style=\"text-align: right;\">\n",
       "      <th></th>\n",
       "      <th>Confirmed Cases_LR.prediction</th>\n",
       "    </tr>\n",
       "  </thead>\n",
       "  <tbody>\n",
       "    <tr>\n",
       "      <th>0</th>\n",
       "      <td>16026.863255</td>\n",
       "    </tr>\n",
       "    <tr>\n",
       "      <th>1</th>\n",
       "      <td>17889.091759</td>\n",
       "    </tr>\n",
       "    <tr>\n",
       "      <th>2</th>\n",
       "      <td>29486.533085</td>\n",
       "    </tr>\n",
       "    <tr>\n",
       "      <th>3</th>\n",
       "      <td>14312.318237</td>\n",
       "    </tr>\n",
       "    <tr>\n",
       "      <th>4</th>\n",
       "      <td>23161.430147</td>\n",
       "    </tr>\n",
       "    <tr>\n",
       "      <th>...</th>\n",
       "      <td>...</td>\n",
       "    </tr>\n",
       "    <tr>\n",
       "      <th>199</th>\n",
       "      <td>5288.113711</td>\n",
       "    </tr>\n",
       "    <tr>\n",
       "      <th>200</th>\n",
       "      <td>8085.670956</td>\n",
       "    </tr>\n",
       "    <tr>\n",
       "      <th>201</th>\n",
       "      <td>13721.584295</td>\n",
       "    </tr>\n",
       "    <tr>\n",
       "      <th>202</th>\n",
       "      <td>11514.760992</td>\n",
       "    </tr>\n",
       "    <tr>\n",
       "      <th>203</th>\n",
       "      <td>17790.636102</td>\n",
       "    </tr>\n",
       "  </tbody>\n",
       "</table>\n",
       "<p>204 rows × 1 columns</p>\n",
       "</div>"
      ],
      "text/plain": [
       "     Confirmed Cases_LR.prediction\n",
       "0                     16026.863255\n",
       "1                     17889.091759\n",
       "2                     29486.533085\n",
       "3                     14312.318237\n",
       "4                     23161.430147\n",
       "..                             ...\n",
       "199                    5288.113711\n",
       "200                    8085.670956\n",
       "201                   13721.584295\n",
       "202                   11514.760992\n",
       "203                   17790.636102\n",
       "\n",
       "[204 rows x 1 columns]"
      ]
     },
     "execution_count": 23,
     "metadata": {},
     "output_type": "execute_result"
    }
   ],
   "source": [
    "LR_prediction = LR.predict(X_test)\n",
    "LR_prediction = pd.DataFrame(LR_prediction)\n",
    "LR_prediction.columns = [\"Confirmed Cases_LR.prediction\"]\n",
    "LR_prediction\n"
   ]
  },
  {
   "cell_type": "code",
   "execution_count": 24,
   "metadata": {},
   "outputs": [
    {
     "data": {
      "image/png": "[encoded data removed]",
      "text/plain": [
       "<Figure size 432x288 with 1 Axes>"
      ]
     },
     "metadata": {},
     "output_type": "display_data"
    }
   ],
   "source": [
    "LR_prediction.plot()\n",
    "plt.show()"
   ]
  },
  {
   "cell_type": "code",
   "execution_count": 25,
   "metadata": {},
   "outputs": [
    {
     "data": {
      "text/plain": [
       "array([[16026.86325532],\n",
       "       [17889.09175915],\n",
       "       [29486.5330855 ],\n",
       "       [14312.31823684],\n",
       "       [23161.43014726],\n",
       "       [18895.46702665],\n",
       "       [ 5731.16416718],\n",
       "       [25368.25345024],\n",
       "       [29978.81137   ],\n",
       "       [15731.49628462],\n",
       "       [ 1465.20104657],\n",
       "       [ 9258.70986103],\n",
       "       [25762.07607784],\n",
       "       [ 5583.48068183],\n",
       "       [12078.08580391],\n",
       "       [11930.40231856],\n",
       "       [20785.10466043],\n",
       "       [20292.82637593],\n",
       "       [20954.60684428],\n",
       "       [ 8845.90708076],\n",
       "       [10018.94598628],\n",
       "       [20194.37071903],\n",
       "       [14580.27607759],\n",
       "       [24728.29168038],\n",
       "       [10609.67992768],\n",
       "       [10265.08512853],\n",
       "       [11268.62185021],\n",
       "       [ 9997.12728778],\n",
       "       [19308.26980692],\n",
       "       [ 5189.65805422],\n",
       "       [11733.49100476],\n",
       "       [21348.42947188],\n",
       "       [18452.4165706 ],\n",
       "       [10806.59124149],\n",
       "       [  382.18882066],\n",
       "       [27181.25412561],\n",
       "       [18255.50525679],\n",
       "       [20314.64507442],\n",
       "       [ 8107.489654  ],\n",
       "       [-2603.85076024],\n",
       "       [27427.39326787],\n",
       "       [23752.16408866],\n",
       "       [17987.54741605],\n",
       "       [ 5238.88588267],\n",
       "       [13327.76166784],\n",
       "       [29388.07742859],\n",
       "       [11662.44447781],\n",
       "       [ 3228.97389349],\n",
       "       [13524.67298163],\n",
       "       [23456.79711796],\n",
       "       [13278.53383939],\n",
       "       [24925.20299418],\n",
       "       [ 3327.42955039],\n",
       "       [ 9160.25420413],\n",
       "       [ 4845.06325507],\n",
       "       [ 7199.5700434 ],\n",
       "       [14284.90910689],\n",
       "       [ 7615.2113695 ],\n",
       "       [13820.03995234],\n",
       "       [17544.49696   ],\n",
       "       [19800.54809142],\n",
       "       [ 5928.07548098],\n",
       "       [ 5977.30330943],\n",
       "       [13940.31430774],\n",
       "       [-1381.58402627],\n",
       "       [26836.65932646],\n",
       "       [12203.95059076],\n",
       "       [21446.88512878],\n",
       "       [22570.69620585],\n",
       "       [ 7642.62049945],\n",
       "       [16590.18806677],\n",
       "       [ 3425.8852073 ],\n",
       "       [13989.54213619],\n",
       "       [16934.78286592],\n",
       "       [18135.2309014 ],\n",
       "       [17279.37766508],\n",
       "       [22619.9240343 ],\n",
       "       [ 6904.2030727 ],\n",
       "       [ 7664.43919795],\n",
       "       [15534.58497082],\n",
       "       [18747.7835413 ],\n",
       "       [19092.37834045],\n",
       "       [15829.95194152],\n",
       "       [10095.58294468],\n",
       "       [ 9701.76031708],\n",
       "       [15220.23784745],\n",
       "       [ 9674.35118713],\n",
       "       [19240.0618258 ],\n",
       "       [ 6953.43090115],\n",
       "       [ 1809.79584572],\n",
       "       [18157.04959989],\n",
       "       [20363.87290287],\n",
       "       [ 8864.88723342],\n",
       "       [10314.31295698],\n",
       "       [ 6707.29175889],\n",
       "       [29191.16611479],\n",
       "       [11979.63014701],\n",
       "       [27968.89938082],\n",
       "       [15780.72411307],\n",
       "       [29092.71045789],\n",
       "       [19899.00374832],\n",
       "       [25220.56996489],\n",
       "       [20216.18941752],\n",
       "       [29289.62177169],\n",
       "       [11219.39402176],\n",
       "       [ 7150.34221495],\n",
       "       [13180.07818248],\n",
       "       [15171.010019  ],\n",
       "       [18698.55571285],\n",
       "       [19141.6061689 ],\n",
       "       [ 9012.57071878],\n",
       "       [ 3475.11303575],\n",
       "       [12521.13625996],\n",
       "       [15633.04062771],\n",
       "       [13475.44515318],\n",
       "       [12007.03927696],\n",
       "       [28748.11565874],\n",
       "       [ 7101.1143865 ],\n",
       "       [ 2687.46778054],\n",
       "       [18993.92268355],\n",
       "       [14826.41521984],\n",
       "       [16223.77456912],\n",
       "       [16393.27675297],\n",
       "       [ 3573.56869265],\n",
       "       [12176.54146081],\n",
       "       [17298.35781774],\n",
       "       [17249.12998929],\n",
       "       [-1676.95099697],\n",
       "       [ 1366.74538967],\n",
       "       [ 9307.93768948],\n",
       "       [ 7839.53181325],\n",
       "       [20440.50986128],\n",
       "       [-2751.53424559],\n",
       "       [ 9652.53248863],\n",
       "       [10412.76861388],\n",
       "       [ 5681.93633873],\n",
       "       [16836.32720902],\n",
       "       [ 3622.7965211 ],\n",
       "       [15140.76234321],\n",
       "       [ 2785.92343744],\n",
       "       [17593.72478845],\n",
       "       [ -593.93877106],\n",
       "       [21102.29032963],\n",
       "       [ 3770.48000645],\n",
       "       [ 2638.23995209],\n",
       "       [ 2539.78429519],\n",
       "       [29043.48262944],\n",
       "       [ 9406.39334638],\n",
       "       [29732.67222775],\n",
       "       [ 8501.3122816 ],\n",
       "       [10874.7992226 ],\n",
       "       [ 5337.34153957],\n",
       "       [ 4648.15194127],\n",
       "       [18846.2391982 ],\n",
       "       [10658.90775613],\n",
       "       [18403.18874215],\n",
       "       [13032.39469713],\n",
       "       [ 8255.17313935],\n",
       "       [ 9111.02637568],\n",
       "       [  579.10013446],\n",
       "       [ 7987.2152986 ],\n",
       "       [16371.45805447],\n",
       "       [27821.21589547],\n",
       "       [ 8402.8566247 ],\n",
       "       [20489.73768973],\n",
       "       [10560.45209923],\n",
       "       [ 2441.32863829],\n",
       "       [25023.65865108],\n",
       "       [ 3672.02434955],\n",
       "       [ 7713.6670264 ],\n",
       "       [ -397.02745726],\n",
       "       [22964.51883345],\n",
       "       [ 8766.43157652],\n",
       "       [26492.06452731],\n",
       "       [22373.78489205],\n",
       "       [-1283.12836937],\n",
       "       [ -987.76139867],\n",
       "       [26787.43149801],\n",
       "       [27230.48195406],\n",
       "       [-2653.07858869],\n",
       "       [26885.88715491],\n",
       "       [17377.83332198],\n",
       "       [10144.81077313],\n",
       "       [16639.41589522],\n",
       "       [20265.41724597],\n",
       "       [22718.37969121],\n",
       "       [11317.84967866],\n",
       "       [ 8815.65940497],\n",
       "       [14361.54606529],\n",
       "       [11881.17449011],\n",
       "       [13426.21732474],\n",
       "       [ 7347.25352875],\n",
       "       [22275.32923515],\n",
       "       [ 7565.98354105],\n",
       "       [13062.64237292],\n",
       "       [ 9357.16551793],\n",
       "       [22669.15186276],\n",
       "       [21299.20164343],\n",
       "       [13869.26778079],\n",
       "       [ 5288.11371112],\n",
       "       [ 8085.67095551],\n",
       "       [13721.58429544],\n",
       "       [11514.76099246],\n",
       "       [17790.63610224]])"
      ]
     },
     "execution_count": 25,
     "metadata": {},
     "output_type": "execute_result"
    }
   ],
   "source": [
    "LR.predict(X_test)"
   ]
  },
  {
   "cell_type": "code",
   "execution_count": 26,
   "metadata": {},
   "outputs": [
    {
     "data": {
      "text/plain": [
       "-1.8652700475508397"
      ]
     },
     "execution_count": 26,
     "metadata": {},
     "output_type": "execute_result"
    }
   ],
   "source": [
    "import numpy as np\n",
    "from sklearn.model_selection import cross_val_score\n",
    "reg_cv=LinearRegression()\n",
    "cv_scores=cross_val_score(reg_cv,X,Y,cv=6)\n",
    "np.mean(cv_scores)"
   ]
  },
  {
   "cell_type": "code",
   "execution_count": 27,
   "metadata": {},
   "outputs": [
    {
     "name": "stdout",
     "output_type": "stream",
     "text": [
      "Coefficients: \n",
      " [[ 2108.36764608 11400.53001255    49.22782845]]\n",
      "Coefficient of determination: 0.66\n"
     ]
    }
   ],
   "source": [
    "Y_pred = LR.predict(X_test)\n",
    "print(\"Coefficients: \\n\", LR.coef_)\n",
    "# The coefficient of determination: 1 is perfect prediction\n",
    "print(\"Coefficient of determination: %.2f\" % r2_score(Y_test, Y_pred))"
   ]
  },
  {
   "cell_type": "code",
   "execution_count": 28,
   "metadata": {},
   "outputs": [
    {
     "name": "stderr",
     "output_type": "stream",
     "text": [
      "<ipython-input-28-dbff8466b610>:4: DataConversionWarning: A column-vector y was passed when a 1d array was expected. Please change the shape of y to (n_samples,), for example using ravel().\n",
      "  tree_model.fit(X_train,Y_train)\n"
     ]
    }
   ],
   "source": [
    "from sklearn.ensemble import RandomForestClassifier\n",
    "tree_model= RandomForestClassifier(n_estimators=100, max_depth=200,\n",
    "                        random_state=1)\n",
    "tree_model.fit(X_train,Y_train)\n",
    "RF_prediction = tree_model.predict(X_test)"
   ]
  },
  {
   "cell_type": "code",
   "execution_count": 29,
   "metadata": {},
   "outputs": [
    {
     "name": "stderr",
     "output_type": "stream",
     "text": [
      "<ipython-input-29-fcd2b738b854>:1: DataConversionWarning: A column-vector y was passed when a 1d array was expected. Please change the shape of y to (n_samples,), for example using ravel().\n",
      "  tree_model.fit(X_train,Y_train)\n"
     ]
    },
    {
     "name": "stdout",
     "output_type": "stream",
     "text": [
      "Coefficient of determination: 0.95\n"
     ]
    }
   ],
   "source": [
    "tree_model.fit(X_train,Y_train)\n",
    "RF_prediction = tree_model.predict(X_test)\n",
    "print(\"Coefficient of determination: %.2f\" % r2_score(Y_test, RF_prediction))"
   ]
  },
  {
   "cell_type": "code",
   "execution_count": 30,
   "metadata": {},
   "outputs": [],
   "source": [
    "RF_prediction = pd.DataFrame(RF_prediction)\n",
    "RF_prediction.columns = [\"Confirmed Cases_RF_prediction\"]"
   ]
  },
  {
   "cell_type": "code",
   "execution_count": 31,
   "metadata": {},
   "outputs": [
    {
     "data": {
      "text/html": [
       "<div>\n",
       "<style scoped>\n",
       "    .dataframe tbody tr th:only-of-type {\n",
       "        vertical-align: middle;\n",
       "    }\n",
       "\n",
       "    .dataframe tbody tr th {\n",
       "        vertical-align: top;\n",
       "    }\n",
       "\n",
       "    .dataframe thead th {\n",
       "        text-align: right;\n",
       "    }\n",
       "</style>\n",
       "<table border=\"1\" class=\"dataframe\">\n",
       "  <thead>\n",
       "    <tr style=\"text-align: right;\">\n",
       "      <th></th>\n",
       "      <th>Confirmed Cases_RF_prediction</th>\n",
       "    </tr>\n",
       "  </thead>\n",
       "  <tbody>\n",
       "    <tr>\n",
       "      <th>0</th>\n",
       "      <td>15843.0</td>\n",
       "    </tr>\n",
       "    <tr>\n",
       "      <th>1</th>\n",
       "      <td>22441.0</td>\n",
       "    </tr>\n",
       "    <tr>\n",
       "      <th>2</th>\n",
       "      <td>36155.0</td>\n",
       "    </tr>\n",
       "    <tr>\n",
       "      <th>3</th>\n",
       "      <td>7764.0</td>\n",
       "    </tr>\n",
       "    <tr>\n",
       "      <th>4</th>\n",
       "      <td>20312.0</td>\n",
       "    </tr>\n",
       "  </tbody>\n",
       "</table>\n",
       "</div>"
      ],
      "text/plain": [
       "   Confirmed Cases_RF_prediction\n",
       "0                        15843.0\n",
       "1                        22441.0\n",
       "2                        36155.0\n",
       "3                         7764.0\n",
       "4                        20312.0"
      ]
     },
     "execution_count": 31,
     "metadata": {},
     "output_type": "execute_result"
    }
   ],
   "source": [
    "RF_prediction.head()"
   ]
  },
  {
   "cell_type": "code",
   "execution_count": 32,
   "metadata": {},
   "outputs": [
    {
     "name": "stdout",
     "output_type": "stream",
     "text": [
      "<class 'pandas.core.frame.DataFrame'>\n",
      "RangeIndex: 204 entries, 0 to 203\n",
      "Data columns (total 1 columns):\n",
      " #   Column                         Non-Null Count  Dtype  \n",
      "---  ------                         --------------  -----  \n",
      " 0   Confirmed Cases_RF_prediction  204 non-null    float64\n",
      "dtypes: float64(1)\n",
      "memory usage: 1.7 KB\n"
     ]
    }
   ],
   "source": [
    "RF_prediction.info()"
   ]
  },
  {
   "cell_type": "code",
   "execution_count": 33,
   "metadata": {},
   "outputs": [
    {
     "data": {
      "image/png": "[encoded data removed]",
      "text/plain": [
       "<Figure size 432x288 with 1 Axes>"
      ]
     },
     "metadata": {},
     "output_type": "display_data"
    }
   ],
   "source": [
    "RF_prediction.plot()\n",
    "plt.show()"
   ]
  }
 ],
 "metadata": {
  "kernelspec": {
   "display_name": "Python 3",
   "language": "python",
   "name": "python3"
  },
  "language_info": {
   "codemirror_mode": {
    "name": "ipython",
    "version": 3
   },
   "file_extension": ".py",
   "mimetype": "text/x-python",
   "name": "python",
   "nbconvert_exporter": "python",
   "pygments_lexer": "ipython3",
   "version": "3.8.3"
  }
 },
 "nbformat": 4,
 "nbformat_minor": 4
}
